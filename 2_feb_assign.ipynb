{
 "cells": [
  {
   "cell_type": "markdown",
   "id": "c4fc114d",
   "metadata": {},
   "source": [
    "### Q1. What are the characteristics of the tuples? Is tuple immutable?"
   ]
  },
  {
   "cell_type": "markdown",
   "id": "efabc966",
   "metadata": {},
   "source": [
    "##### The main characteristics of tuples are:\n",
    "    a.Ordered -- i.e elements are stored in order\n",
    "    b.Unchangeable/Immutable -- i.e we can not modify(change/add/remove) the value of elements later\n",
    "    c.Allow duplicate values -- i.e same value can be stored twice or more\n",
    "    d.Items are stored with index and indexing starts with 0\n",
    "##### Yes, tuples are immutable\n",
    "    "
   ]
  },
  {
   "cell_type": "markdown",
   "id": "5a6e52d2",
   "metadata": {},
   "source": [
    "### Q2. What are the two tuple methods in python? Give an example of each method. Give a reason why tuples have only two in-built methods as compared to Lists."
   ]
  },
  {
   "cell_type": "markdown",
   "id": "9a0bf8fb",
   "metadata": {},
   "source": [
    "#### The two tuple methods in python are:\n",
    "    a. count -- this is used to find the total no of occurance of any element in tuple.\n",
    "    b. index -- this is used to find the index of 1st occurance of any element in tuple."
   ]
  },
  {
   "cell_type": "markdown",
   "id": "460b3316",
   "metadata": {},
   "source": [
    "#### Examples: "
   ]
  },
  {
   "cell_type": "code",
   "execution_count": 9,
   "id": "c512a034",
   "metadata": {},
   "outputs": [],
   "source": [
    "a = (4,85,7,8,7,\"yuuhg\",[4,7,4,9.0,\"yui\"],87,7,8,5,4)"
   ]
  },
  {
   "cell_type": "code",
   "execution_count": 10,
   "id": "f312c446",
   "metadata": {},
   "outputs": [
    {
     "data": {
      "text/plain": [
       "3"
      ]
     },
     "execution_count": 10,
     "metadata": {},
     "output_type": "execute_result"
    }
   ],
   "source": [
    "a.count(7)"
   ]
  },
  {
   "cell_type": "code",
   "execution_count": 11,
   "id": "062e4325",
   "metadata": {},
   "outputs": [
    {
     "data": {
      "text/plain": [
       "2"
      ]
     },
     "execution_count": 11,
     "metadata": {},
     "output_type": "execute_result"
    }
   ],
   "source": [
    "a.index(7)"
   ]
  },
  {
   "cell_type": "markdown",
   "id": "b64c9990",
   "metadata": {},
   "source": [
    "#### Tuples have only two in built methord because they are immutable and lists are mutable"
   ]
  },
  {
   "cell_type": "markdown",
   "id": "b0ec05a9",
   "metadata": {},
   "source": [
    "### Q3. Which collection datatypes in python do not allow duplicate items? Write a code using a set to remove duplicates from the given list. \n",
    "### List = [1, 1, 1, 2, 1, 3, 1, 4, 2, 1, 2, 2, 2, 3, 2, 4, 3, 1, 3, 2, 3, 3, 3, 4, 4, 1, 4, 2, 4, 3, 4, 4]"
   ]
  },
  {
   "cell_type": "markdown",
   "id": "042189a7",
   "metadata": {},
   "source": [
    "##### set in python do not allow duplicate items"
   ]
  },
  {
   "cell_type": "code",
   "execution_count": 12,
   "id": "dd98d432",
   "metadata": {},
   "outputs": [],
   "source": [
    "List = [1, 1, 1, 2, 1, 3, 1, 4, 2, 1, 2, 2, 2, 3, 2, 4, 3, 1, 3, 2, 3, 3, 3, 4, 4, 1, 4, 2, 4, 3, 4, 4]"
   ]
  },
  {
   "cell_type": "code",
   "execution_count": 14,
   "id": "9bbbd27d",
   "metadata": {},
   "outputs": [
    {
     "data": {
      "text/plain": [
       "{1, 2, 3, 4}"
      ]
     },
     "execution_count": 14,
     "metadata": {},
     "output_type": "execute_result"
    }
   ],
   "source": [
    "set(List)  # Code to remove duplicates"
   ]
  },
  {
   "cell_type": "markdown",
   "id": "9da95c7f",
   "metadata": {},
   "source": [
    "### Q4. Explain the difference between the union() and update() methods for a set. Give an example of each method."
   ]
  },
  {
   "cell_type": "markdown",
   "id": "f26d814d",
   "metadata": {},
   "source": [
    "#### union() return all elements that are in either set as a new set while update() update the existing set with all elements that are in either set. "
   ]
  },
  {
   "cell_type": "markdown",
   "id": "fbf8d53c",
   "metadata": {},
   "source": [
    "##### Examples:"
   ]
  },
  {
   "cell_type": "code",
   "execution_count": 19,
   "id": "c75e4bd3",
   "metadata": {},
   "outputs": [],
   "source": [
    "s1 = {4,8,7,98,78,4,94,94,96}"
   ]
  },
  {
   "cell_type": "code",
   "execution_count": 20,
   "id": "4fbf91ed",
   "metadata": {},
   "outputs": [],
   "source": [
    "s2 = {78879,879,87,78,97,65,97,89}"
   ]
  },
  {
   "cell_type": "code",
   "execution_count": 21,
   "id": "2bdc2a2b",
   "metadata": {},
   "outputs": [
    {
     "data": {
      "text/plain": [
       "{4, 7, 8, 65, 78, 87, 89, 94, 96, 97, 98, 879, 78879}"
      ]
     },
     "execution_count": 21,
     "metadata": {},
     "output_type": "execute_result"
    }
   ],
   "source": [
    "s1.union(s2)"
   ]
  },
  {
   "cell_type": "code",
   "execution_count": 22,
   "id": "b6a01ed7",
   "metadata": {},
   "outputs": [
    {
     "data": {
      "text/plain": [
       "{4, 7, 8, 78, 94, 96, 98}"
      ]
     },
     "execution_count": 22,
     "metadata": {},
     "output_type": "execute_result"
    }
   ],
   "source": [
    "s1"
   ]
  },
  {
   "cell_type": "code",
   "execution_count": 23,
   "id": "50e2e8a7",
   "metadata": {},
   "outputs": [
    {
     "data": {
      "text/plain": [
       "{65, 78, 87, 89, 97, 879, 78879}"
      ]
     },
     "execution_count": 23,
     "metadata": {},
     "output_type": "execute_result"
    }
   ],
   "source": [
    "s2"
   ]
  },
  {
   "cell_type": "code",
   "execution_count": 24,
   "id": "e3713655",
   "metadata": {},
   "outputs": [],
   "source": [
    "s1.update(s2)"
   ]
  },
  {
   "cell_type": "code",
   "execution_count": 25,
   "id": "00284116",
   "metadata": {},
   "outputs": [
    {
     "data": {
      "text/plain": [
       "{4, 7, 8, 65, 78, 87, 89, 94, 96, 97, 98, 879, 78879}"
      ]
     },
     "execution_count": 25,
     "metadata": {},
     "output_type": "execute_result"
    }
   ],
   "source": [
    "s1"
   ]
  },
  {
   "cell_type": "code",
   "execution_count": 26,
   "id": "3e347dac",
   "metadata": {},
   "outputs": [
    {
     "data": {
      "text/plain": [
       "{65, 78, 87, 89, 97, 879, 78879}"
      ]
     },
     "execution_count": 26,
     "metadata": {},
     "output_type": "execute_result"
    }
   ],
   "source": [
    "s2"
   ]
  },
  {
   "cell_type": "markdown",
   "id": "bdbd667f",
   "metadata": {},
   "source": [
    "### Q5. What is a dictionary? Give an example. Also, state whether a dictionary is ordered or unordered."
   ]
  },
  {
   "cell_type": "markdown",
   "id": "6e4ce2bb",
   "metadata": {},
   "source": [
    "#### Dictionary is an ordered collection of key,value pair that does not allow duplicate keys and are mutable."
   ]
  },
  {
   "cell_type": "markdown",
   "id": "f055c75c",
   "metadata": {},
   "source": [
    "##### Example:"
   ]
  },
  {
   "cell_type": "code",
   "execution_count": 28,
   "id": "389c0287",
   "metadata": {},
   "outputs": [],
   "source": [
    "dictionary = {\"name\":\"Abhi\",\"Course\":\"DSA\",\"price\": 3000}"
   ]
  },
  {
   "cell_type": "code",
   "execution_count": 30,
   "id": "42bf4e9f",
   "metadata": {},
   "outputs": [
    {
     "data": {
      "text/plain": [
       "{'name': 'Abhi', 'Course': 'DSA', 'price': 3000}"
      ]
     },
     "execution_count": 30,
     "metadata": {},
     "output_type": "execute_result"
    }
   ],
   "source": [
    "dictionary"
   ]
  },
  {
   "cell_type": "markdown",
   "id": "80ccc9f4",
   "metadata": {},
   "source": [
    "#### Dictionary are ordered in Python version 3.7 and later but was unordered in privious versions."
   ]
  },
  {
   "cell_type": "markdown",
   "id": "082b9173",
   "metadata": {},
   "source": [
    "### Q6. Can we create a nested dictionary? If so, please give an example by creating a simple one-level nested dictionary."
   ]
  },
  {
   "cell_type": "markdown",
   "id": "97a2fd48",
   "metadata": {},
   "source": [
    "##### Yes, we can create a nested dictionary."
   ]
  },
  {
   "cell_type": "markdown",
   "id": "d675fe84",
   "metadata": {},
   "source": [
    "#### Example:"
   ]
  },
  {
   "cell_type": "code",
   "execution_count": 33,
   "id": "c13a9479",
   "metadata": {},
   "outputs": [],
   "source": [
    "nested_dict = {\"input\":{\"input_device1\": \"keyboard\",\"input_device2\": \"mouse\"},\"output\":{\"output_device1\":\"monitor\",\"output_device2\":\"Speaker\"}}"
   ]
  },
  {
   "cell_type": "code",
   "execution_count": 34,
   "id": "e9dff0d0",
   "metadata": {},
   "outputs": [
    {
     "data": {
      "text/plain": [
       "{'input': {'input_device1': 'keyboard', 'input_device2': 'mouse'},\n",
       " 'output': {'output_device1': 'monitor', 'output_device2': 'Speaker'}}"
      ]
     },
     "execution_count": 34,
     "metadata": {},
     "output_type": "execute_result"
    }
   ],
   "source": [
    "nested_dict"
   ]
  },
  {
   "cell_type": "markdown",
   "id": "50618e78",
   "metadata": {},
   "source": [
    "#### Note : A dictionary key must be of a type that is immutable"
   ]
  },
  {
   "cell_type": "markdown",
   "id": "cea8a505",
   "metadata": {},
   "source": [
    "### Q7. Using setdefault() method, create key named topics in the given dictionary and also add the value of the key as this list ['Python', 'Machine Learning’, 'Deep Learning'] \n",
    "### dict1 = {'language' : 'Python', 'course': 'Data Science Masters'}"
   ]
  },
  {
   "cell_type": "code",
   "execution_count": 63,
   "id": "35b90d13",
   "metadata": {},
   "outputs": [],
   "source": [
    "dict1 = {'language' : 'Python', 'course': 'Data Science Masters'}"
   ]
  },
  {
   "cell_type": "code",
   "execution_count": 64,
   "id": "3e392e21",
   "metadata": {},
   "outputs": [],
   "source": [
    "dict1.setdefault(\"topics\")"
   ]
  },
  {
   "cell_type": "code",
   "execution_count": 65,
   "id": "f7ef1b02",
   "metadata": {},
   "outputs": [
    {
     "data": {
      "text/plain": [
       "{'language': 'Python', 'course': 'Data Science Masters', 'topics': None}"
      ]
     },
     "execution_count": 65,
     "metadata": {},
     "output_type": "execute_result"
    }
   ],
   "source": [
    "dict1"
   ]
  },
  {
   "cell_type": "code",
   "execution_count": 71,
   "id": "d8778720",
   "metadata": {},
   "outputs": [],
   "source": [
    "dict1['topics'] = ['Python','Machine Learning','Deep Learning']"
   ]
  },
  {
   "cell_type": "code",
   "execution_count": 72,
   "id": "09c6c300",
   "metadata": {},
   "outputs": [
    {
     "data": {
      "text/plain": [
       "{'language': 'Python',\n",
       " 'course': 'Data Science Masters',\n",
       " 'topics': ['Python', 'Machine Learning', 'Deep Learning']}"
      ]
     },
     "execution_count": 72,
     "metadata": {},
     "output_type": "execute_result"
    }
   ],
   "source": [
    "dict1"
   ]
  },
  {
   "cell_type": "markdown",
   "id": "1ce6574c",
   "metadata": {},
   "source": [
    "### Q8. What are the three view objects in dictionaries? Use the three in-built methods in python to display these three view objects for the given dictionary.\n",
    "### dict1 = {'Sport': 'Cricket' , 'Teams': ['India', 'Australia', 'England', 'South Africa', 'Sri Lanka', 'New Zealand']}"
   ]
  },
  {
   "cell_type": "markdown",
   "id": "a3a9d4a7",
   "metadata": {},
   "source": [
    "##### Three view objects in dictionaries are :"
   ]
  },
  {
   "cell_type": "markdown",
   "id": "6a8ff359",
   "metadata": {},
   "source": [
    "1.keys() -- return list of all keys from the dictionary.\n",
    "\n",
    "2.value() -- return list of all values from the dictionary.\n",
    "\n",
    "3.items() -- return all key value pair from the dictionary"
   ]
  },
  {
   "cell_type": "code",
   "execution_count": 73,
   "id": "e332f6e0",
   "metadata": {},
   "outputs": [],
   "source": [
    "dict1 = {'Sport': 'Cricket' , 'Teams': ['India', 'Australia', 'England', 'South Africa', 'Sri Lanka', 'New Zealand']}"
   ]
  },
  {
   "cell_type": "code",
   "execution_count": 74,
   "id": "418e295a",
   "metadata": {},
   "outputs": [
    {
     "data": {
      "text/plain": [
       "dict_keys(['Sport', 'Teams'])"
      ]
     },
     "execution_count": 74,
     "metadata": {},
     "output_type": "execute_result"
    }
   ],
   "source": [
    "dict1.keys()"
   ]
  },
  {
   "cell_type": "code",
   "execution_count": 75,
   "id": "4dec266b",
   "metadata": {},
   "outputs": [
    {
     "data": {
      "text/plain": [
       "dict_values(['Cricket', ['India', 'Australia', 'England', 'South Africa', 'Sri Lanka', 'New Zealand']])"
      ]
     },
     "execution_count": 75,
     "metadata": {},
     "output_type": "execute_result"
    }
   ],
   "source": [
    "dict1.values()"
   ]
  },
  {
   "cell_type": "code",
   "execution_count": 76,
   "id": "3b1c4cf2",
   "metadata": {},
   "outputs": [
    {
     "data": {
      "text/plain": [
       "dict_items([('Sport', 'Cricket'), ('Teams', ['India', 'Australia', 'England', 'South Africa', 'Sri Lanka', 'New Zealand'])])"
      ]
     },
     "execution_count": 76,
     "metadata": {},
     "output_type": "execute_result"
    }
   ],
   "source": [
    "dict1.items()"
   ]
  }
 ],
 "metadata": {
  "kernelspec": {
   "display_name": "Python 3 (ipykernel)",
   "language": "python",
   "name": "python3"
  },
  "language_info": {
   "codemirror_mode": {
    "name": "ipython",
    "version": 3
   },
   "file_extension": ".py",
   "mimetype": "text/x-python",
   "name": "python",
   "nbconvert_exporter": "python",
   "pygments_lexer": "ipython3",
   "version": "3.9.7"
  }
 },
 "nbformat": 4,
 "nbformat_minor": 5
}
